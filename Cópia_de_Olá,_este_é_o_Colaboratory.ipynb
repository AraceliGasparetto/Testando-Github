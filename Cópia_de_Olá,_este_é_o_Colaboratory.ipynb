{
  "cells": [
    {
      "cell_type": "markdown",
      "metadata": {
        "id": "view-in-github",
        "colab_type": "text"
      },
      "source": [
        "<a href=\"https://colab.research.google.com/github/AraceliGasparetto/Testando-Github/blob/main/C%C3%B3pia_de_Ol%C3%A1%2C_este_%C3%A9_o_Colaboratory.ipynb\" target=\"_parent\"><img src=\"https://colab.research.google.com/assets/colab-badge.svg\" alt=\"Open In Colab\"/></a>"
      ]
    },
    {
      "cell_type": "markdown",
      "metadata": {
        "id": "Wf5KrEb6vrkR"
      },
      "source": [
        "<div class=\"markdown-google-sans\">\n",
        "  <h1>Conheça o Colab</h1>\n",
        "</div>\n",
        "\n",
        "<!-- TODO(b/319266067) remove temporary advert after a few weeks. -->\n",
        "<div class=\"markdown-google-sans\">\n",
        "  <h2>&#40;Novidade&#41; Teste a API Gemini</h2>\n",
        "  <ul>\n",
        "  <li><a href=\"https://makersuite.google.com/app/apikey\">Generate a Gemini API key</a></li>\n",
        "  <li><a href=\"https://colab.research.google.com/github/googlecolab/colabtools/blob/main/notebooks/Talk_to_Gemini_with_Google%27s_Speech_to_Text_API.ipynb?utm_medium=link&utm_campaign=gemini\">Talk to Gemini with the Speech-to-Text API</a></li>\n",
        "  <li><a href=\"https://colab.research.google.com/github/googlecolab/colabtools/blob/main/notebooks/Learning_with_Gemini_and_ChatGPT.ipynb?utm_medium=link&utm_campaign=gemini\">Compare Gemini with ChatGPT</a></li>  \n",
        "  <li><a href=\"https://colab.google/notebooks/?utm_medium=link&utm_campaign=gemini\">More notebooks</a></li>\n",
        "  </ul>\n",
        "</div>\n"
      ]
    },
    {
      "cell_type": "code",
      "source": [
        "\n",
        "nome = input(\"Digite seu nome: \")\n",
        "endereco = input(\"Digite seu endereço: \")\n",
        "cidade = input(\"Digite sua cidade: \")\n",
        "cpf = input(\"Digite seu CPF: \")\n",
        "rg = input(\"Digite seu RG: \")\n",
        "\n",
        "# Exibe os dados fornecidos pelo usuário na tela\n",
        "print(\"\\nDados pessoais:\")\n",
        "print(\"Nome:\", nome)\n",
        "print(\"Endereço:\", endereco)\n",
        "print(\"Cidade:\", cidade)\n",
        "print(\"CPF:\", cpf)\n",
        "print(\"RG:\", rg)"
      ],
      "metadata": {
        "id": "2gjttIhGQ7kd"
      },
      "execution_count": null,
      "outputs": []
    }
  ],
  "metadata": {
    "colab": {
      "toc_visible": true,
      "provenance": [],
      "include_colab_link": true
    },
    "kernelspec": {
      "display_name": "Python 3",
      "name": "python3"
    }
  },
  "nbformat": 4,
  "nbformat_minor": 0
}