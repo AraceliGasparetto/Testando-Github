{
  "cells": [
    {
      "cell_type": "markdown",
      "metadata": {
        "id": "view-in-github",
        "colab_type": "text"
      },
      "source": [
        "<a href=\"https://colab.research.google.com/github/AraceliGasparetto/Testando-Github/blob/main/Snippets_Importing_libraries.ipynb\" target=\"_parent\"><img src=\"https://colab.research.google.com/assets/colab-badge.svg\" alt=\"Open In Colab\"/></a>"
      ]
    },
    {
      "cell_type": "markdown",
      "metadata": {
        "id": "kDn_lVxg3Z2G"
      },
      "source": [
        "# Importing a library that is not in Colaboratory\n",
        "\n",
        "To import a library that's not in Colaboratory by default, you can use `!pip install` or `!apt-get install`."
      ]
    },
    {
      "cell_type": "code",
      "source": [
        "nome = input(\"Digite seu nome:\")\n",
        "  Digite seu nome = \"araceli gasparetto\"\n",
        "endereco = input(\"Digite seu endereço:\")\n",
        "  Digite seu endereço = \"Rua Fioravante Dosso, 111\"\n",
        "cidade = input(\"Digite sua cidade:\")\n",
        "  Digite sua cidade = \" Caxias do Sul - RS\"\n",
        "cpf = input(\"Digite seu CPF:\")\n",
        "  Digite seu CPF = \"00132054097\"\n",
        "rg = input(\"Digite seu RG:\")\n",
        "  Digite seu RG = \"3030214013\"\n",
        "\n",
        "# Exibe os dados fornecidos pelo usuário na tela\n",
        "print(\"\\nDados pessoais:\")\n",
        "print(\"Nome:\", nome)\n",
        "print(\"Endereço:\", endereco)\n",
        "print(\"Cidade:\", cidade)\n",
        "print(\"CPF:\", cpf)\n",
        "print(\"RG:\", rg)"
      ],
      "metadata": {
        "colab": {
          "base_uri": "https://localhost:8080/"
        },
        "id": "EVK5nUB3Tx7G",
        "outputId": "2e0c8201-5699-4d3a-e3cd-cb2724132fd6"
      },
      "execution_count": 1,
      "outputs": [
        {
          "output_type": "stream",
          "name": "stdout",
          "text": [
            "Digite seu nome:araceli gasparetto\n",
            "Digite seu endereço:Rua Fioravante Dosso, 111\n",
            "Digite sua cidade:Caxias do Sul - RS\n",
            "Digite seu CPF:00132054097\n",
            "Digite seu RG:3030214013\n",
            "\n",
            "Dados pessoais:\n",
            "Nome: araceli gasparetto\n",
            "Endereço: Rua Fioravante Dosso, 111\n",
            "Cidade: Caxias do Sul - RS\n",
            "CPF: 00132054097\n",
            "RG: 3030214013\n"
          ]
        }
      ]
    }
  ],
  "metadata": {
    "colab": {
      "name": "Snippets: Importing libraries",
      "provenance": [],
      "include_colab_link": true
    },
    "kernelspec": {
      "display_name": "Python 3",
      "name": "python3"
    }
  },
  "nbformat": 4,
  "nbformat_minor": 0
}